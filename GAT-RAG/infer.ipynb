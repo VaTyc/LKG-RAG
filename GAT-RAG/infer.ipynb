{
 "cells": [
  {
   "cell_type": "code",
   "execution_count": 1,
   "id": "37f827ec-4121-4918-9c02-8035a40bbfd2",
   "metadata": {
    "tags": []
   },
   "outputs": [],
   "source": [
    "import torch\n",
    "import torch.nn.functional as F\n",
    "from torch_geometric.nn import GATConv\n",
    "from torch_geometric.data import Data, DataLoader\n",
    "import networkx as nx\n",
    "import numpy as np\n",
    "import random\n",
    "import wandb\n",
    "from sklearn.model_selection import train_test_split\n",
    "from sklearn.metrics import accuracy_score, recall_score, f1_score\n",
    "import copy\n",
    "import pandas as pd\n",
    "from transformers import AutoTokenizer, AutoModel"
   ]
  },
  {
   "cell_type": "code",
   "execution_count": 2,
   "id": "1ca920cd-bb95-4239-bce8-6e52cbf69c7b",
   "metadata": {
    "tags": []
   },
   "outputs": [
    {
     "name": "stdout",
     "output_type": "stream",
     "text": [
      "cuda\n"
     ]
    }
   ],
   "source": [
    "device = torch.device('cuda' if torch.cuda.is_available() else 'cpu')\n",
    "print(device)"
   ]
  },
  {
   "cell_type": "code",
   "execution_count": null,
   "id": "b5e3b57c-6e24-4524-a3da-b633f7e843ca",
   "metadata": {},
   "outputs": [],
   "source": [
    "# 加载语言模型\n",
    "tokenizer = AutoTokenizer.from_pretrained(\"./chatglm2-6b\", trust_remote_code=True)\n",
    "model = AutoModel.from_pretrained(\"./chatglm2-6b\", trust_remote_code=True, device_map=\"auto\")\n",
    "model.eval()"
   ]
  },
  {
   "cell_type": "code",
   "execution_count": null,
   "id": "c28768ea-5c76-4604-9558-26a207b904ba",
   "metadata": {},
   "outputs": [],
   "source": [
    "def generate_paths_and_expansion(G, nodes):\n",
    "    paths = set(nodes)\n",
    "    for i in range(len(nodes)):\n",
    "        for j in range(i + 1, len(nodes)):\n",
    "            try:\n",
    "                if nodes[i] in G and nodes[j] in G:\n",
    "                    try:\n",
    "                        path = nx.shortest_path(G, source=nodes[i], target=nodes[j])\n",
    "                    except nx.NetworkXNoPath:\n",
    "                        path = nx.shortest_path(G, source=nodes[j], target=nodes[i])\n",
    "                    paths.update(path)\n",
    "            except nx.NetworkXNoPath:\n",
    "                paths.update([nodes[i], nodes[j]])\n",
    "\n",
    "    # 去重并扩展\n",
    "    expanded_nodes = set(paths)\n",
    "    \n",
    "    for node in paths:\n",
    "        neighbors = nx.single_source_shortest_path_length(G, node, cutoff=2).keys()\n",
    "        expanded_nodes.update(neighbors)\n",
    "\n",
    "    subgraph = G.subgraph(expanded_nodes).copy()\n",
    "    edge_index = torch.tensor(list(subgraph.edges), dtype=torch.long).t().contiguous()\n",
    "    if edge_index.numel() == 0:  # 如果没有边，返回一个空的边列表\n",
    "        edge_index = torch.empty((2, 0), dtype=torch.long)\n",
    "    return edge_index"
   ]
  },
  {
   "cell_type": "code",
   "execution_count": 3,
   "id": "93ab265b-13f2-4f69-b1de-23e7f55fa5b3",
   "metadata": {
    "tags": []
   },
   "outputs": [
    {
     "name": "stdout",
     "output_type": "stream",
     "text": [
      "426\n",
      "449\n",
      "449\n"
     ]
    }
   ],
   "source": [
    "# step1：存储\n",
    "df = pd.read_csv(r'./data/trademark_KG.csv',encoding='utf-8')\n",
    "entities = {}\n",
    "entity_counter = 0\n",
    "\n",
    "for entity in pd.concat([df['head_entity'], df['tail_entity']]).unique():\n",
    "    entities[entity] = entity_counter\n",
    "    entity_counter += 1\n",
    "\n",
    "# 创建编号到实体的反向映射\n",
    "id_to_entity = {v: k for k, v in entities.items()}\n",
    "\n",
    "# 创建关系字典\n",
    "relationships = {}\n",
    "edges = []\n",
    "\n",
    "for index, row in df.iterrows():\n",
    "    # print(index)\n",
    "    head_id = entities[row['head_entity']]\n",
    "    tail_id = entities[row['tail_entity']]\n",
    "    \n",
    "    rel_law = row['rel_law']\n",
    "    if pd.notna(rel_law) and rel_law.strip():\n",
    "        relationships[(head_id, tail_id)] = f\"{row['relationship']}({rel_law})\"\n",
    "    else:\n",
    "        relationships[(head_id, tail_id)] = f\"{row['relationship']}\"\n",
    "        \n",
    "    edges.append((head_id, tail_id))\n",
    "\n",
    "x = torch.zeros(len(entities), 1)\n",
    "edge_index = torch.tensor(edges, dtype=torch.long).t()\n",
    "G_data = Data(x=x,edge_index=edge_index)\n",
    "\n",
    "# 通过键查询实体名称\n",
    "def get_entity_name(entity_id):\n",
    "    return id_to_entity.get(entity_id, \"Entity not found\")\n",
    "\n",
    "# 通过实体名称查询实体编号\n",
    "def get_entity_id(entity_name):\n",
    "    return entities.get(entity_name, \"Entity not found\")\n",
    "\n",
    "# 通过两个实体编号查询两个实体之间的关系\n",
    "def get_relationship(entity_id1, entity_id2):\n",
    "    return relationships.get((entity_id1, entity_id2), \"No relationship found\")\n",
    "    \n",
    "print(len(entities))\n",
    "print(len(relationships))\n",
    "print(len(edges))"
   ]
  },
  {
   "cell_type": "code",
   "execution_count": 5,
   "id": "8186d12e-7808-4f41-af49-4aa53a05de3a",
   "metadata": {
    "tags": []
   },
   "outputs": [],
   "source": [
    "#step2：加载图神经网络模型\n",
    "class GAT(torch.nn.Module):\n",
    "    def __init__(self, in_channels, hidden_channels, out_channels, heads, num_layers, dropout):\n",
    "        super(GAT, self).__init__()\n",
    "        self.num_layers = num_layers\n",
    "        self.dropout = dropout\n",
    "\n",
    "        self.convs = torch.nn.ModuleList()\n",
    "        self.convs.append(GATConv(in_channels, hidden_channels, heads=heads))\n",
    "        for _ in range(num_layers - 2):\n",
    "            self.convs.append(GATConv(hidden_channels * heads, hidden_channels, heads=heads))\n",
    "        self.convs.append(GATConv(hidden_channels * heads, out_channels, heads=1))\n",
    "\n",
    "    def forward(self, data):\n",
    "        x, edge_index = data.x, data.edge_index\n",
    "        for conv in self.convs[:-1]:\n",
    "            x = conv(x, edge_index)\n",
    "            x = x.relu()\n",
    "            x = F.dropout(x, p=self.dropout, training=self.training)\n",
    "        x = self.convs[-1](x, edge_index)\n",
    "        return x\n",
    "    \n",
    "    def edge_prediction(self, data):\n",
    "        x = self.forward(data)\n",
    "        edge_index = data.edge_index.long()\n",
    "        edge_scores = (x[edge_index[0]] * x[edge_index[1]]).sum(dim=1)\n",
    "        return edge_scores\n",
    "    \n",
    "    def edge_index_prediction(self,data):\n",
    "        pred = self.edge_prediction(data)\n",
    "        pred = torch.round(torch.sigmoid_(pred));\n",
    "        indices = torch.nonzero(pred == 1).flatten().tolist()\n",
    "        return indices\n",
    "    \n",
    "# 超参数\n",
    "in_channels = 1\n",
    "hidden_channels = 16\n",
    "out_channels = 8\n",
    "heads = 4\n",
    "num_layers = 4\n",
    "dropout = 0.3\n",
    "\n",
    "GAT_model = GAT(in_channels=in_channels, hidden_channels=hidden_channels, out_channels=out_channels, heads=heads,num_layers=num_layers,dropout=dropout).to(device)\n",
    "\n",
    "if(device==\"cuda\"):\n",
    "    GAT_model.load_state_dict(torch.load('model.pth'))\n",
    "else:\n",
    "    GAT_model.load_state_dict(torch.load('model.pth',map_location='cpu'))"
   ]
  },
  {
   "cell_type": "code",
   "execution_count": 12,
   "id": "fd99f5c6-839b-4efc-813a-cf8272c8ae5f",
   "metadata": {
    "tags": []
   },
   "outputs": [
    {
     "name": "stdout",
     "output_type": "stream",
     "text": [
      "[[  0   0   0   0   0   0   0   0   0   0   1   1   1   1   1   1   3   3\n",
      "    3   3   5   6  18  18  18  18  18  18  18  18  18  18  25  25  25  25\n",
      "   25  25  25  25  25  25  25  25  25  25  23  64]\n",
      " [133 134 135 136 137 277   5   6 424 425 138 139 140   3  25  18 141 142\n",
      "  143 144 146 147 169 170 168 171  20  76 172 173 174  19 181  26  27  28\n",
      "   29 255  58  59  23  60 273  64  92  96  20 277]]\n"
     ]
    }
   ],
   "source": [
    "# step3：检索\n",
    "#构建图\n",
    "edgelist = [(row[0], row[1]) for row in G_data.edge_index.numpy().T]\n",
    "G = nx.DiGraph(edgelist)\n",
    "#选定特定点\n",
    "points = [0,1]\n",
    "#传统图算法\n",
    "subgraph_edge_index = generate_paths_and_expansion(G, points)\n",
    "sub_numpy = subgraph_edge_index.numpy()\n",
    "print(sub_numpy)"
   ]
  }
 ],
 "metadata": {
  "kernelspec": {
   "display_name": "Python 3 (ipykernel)",
   "language": "python",
   "name": "python3"
  },
  "language_info": {
   "codemirror_mode": {
    "name": "ipython",
    "version": 3
   },
   "file_extension": ".py",
   "mimetype": "text/x-python",
   "name": "python",
   "nbconvert_exporter": "python",
   "pygments_lexer": "ipython3",
   "version": "3.8.10"
  }
 },
 "nbformat": 4,
 "nbformat_minor": 5
}
