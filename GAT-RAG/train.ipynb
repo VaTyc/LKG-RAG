{
 "cells": [
  {
   "cell_type": "code",
   "execution_count": 1,
   "id": "b4a6953d-d0f9-4866-94b4-3340667bdea3",
   "metadata": {
    "tags": []
   },
   "outputs": [],
   "source": [
    "import torch\n",
    "import torch.nn.functional as F\n",
    "from torch_geometric.nn import GATConv\n",
    "from torch_geometric.data import Data, DataLoader\n",
    "import networkx as nx\n",
    "import numpy as np\n",
    "import random\n",
    "import wandb\n",
    "from sklearn.model_selection import train_test_split\n",
    "from sklearn.metrics import accuracy_score, recall_score, f1_score\n",
    "import copy\n",
    "import pandas as pd"
   ]
  },
  {
   "cell_type": "code",
   "execution_count": 2,
   "id": "5bc12732-4757-4562-9831-660ecb89955e",
   "metadata": {
    "tags": []
   },
   "outputs": [
    {
     "name": "stdout",
     "output_type": "stream",
     "text": [
      "cuda\n"
     ]
    }
   ],
   "source": [
    "device = torch.device('cuda' if torch.cuda.is_available() else 'cpu')\n",
    "print(device)"
   ]
  },
  {
   "cell_type": "code",
   "execution_count": 3,
   "id": "47e7397c-9a47-4ba3-8dce-9e2cf9c13a5a",
   "metadata": {
    "tags": []
   },
   "outputs": [
    {
     "name": "stderr",
     "output_type": "stream",
     "text": [
      "\u001b[34m\u001b[1mwandb\u001b[0m: Currently logged in as: \u001b[33m2366301182\u001b[0m. Use \u001b[1m`wandb login --relogin`\u001b[0m to force relogin\n"
     ]
    },
    {
     "data": {
      "application/vnd.jupyter.widget-view+json": {
       "model_id": "df8c8d8775554f118e59cdf1f9f9c257",
       "version_major": 2,
       "version_minor": 0
      },
      "text/plain": [
       "VBox(children=(Label(value='Waiting for wandb.init()...\\r'), FloatProgress(value=0.011113365646451712, max=1.0…"
      ]
     },
     "metadata": {},
     "output_type": "display_data"
    },
    {
     "data": {
      "text/html": [
       "wandb version 0.17.2 is available!  To upgrade, please run:\n",
       " $ pip install wandb --upgrade"
      ],
      "text/plain": [
       "<IPython.core.display.HTML object>"
      ]
     },
     "metadata": {},
     "output_type": "display_data"
    },
    {
     "data": {
      "text/html": [
       "Tracking run with wandb version 0.17.0"
      ],
      "text/plain": [
       "<IPython.core.display.HTML object>"
      ]
     },
     "metadata": {},
     "output_type": "display_data"
    },
    {
     "data": {
      "text/html": [
       "Run data is saved locally in <code>/root/autodl-tmp/wandb/run-20240619_141401-6sen25oi</code>"
      ],
      "text/plain": [
       "<IPython.core.display.HTML object>"
      ]
     },
     "metadata": {},
     "output_type": "display_data"
    },
    {
     "data": {
      "text/html": [
       "Syncing run <strong><a href='https://wandb.ai/2366301182/graph-neural-network/runs/6sen25oi' target=\"_blank\">helpful-wind-84</a></strong> to <a href='https://wandb.ai/2366301182/graph-neural-network' target=\"_blank\">Weights & Biases</a> (<a href='https://wandb.me/run' target=\"_blank\">docs</a>)<br/>"
      ],
      "text/plain": [
       "<IPython.core.display.HTML object>"
      ]
     },
     "metadata": {},
     "output_type": "display_data"
    },
    {
     "data": {
      "text/html": [
       " View project at <a href='https://wandb.ai/2366301182/graph-neural-network' target=\"_blank\">https://wandb.ai/2366301182/graph-neural-network</a>"
      ],
      "text/plain": [
       "<IPython.core.display.HTML object>"
      ]
     },
     "metadata": {},
     "output_type": "display_data"
    },
    {
     "data": {
      "text/html": [
       " View run at <a href='https://wandb.ai/2366301182/graph-neural-network/runs/6sen25oi' target=\"_blank\">https://wandb.ai/2366301182/graph-neural-network/runs/6sen25oi</a>"
      ],
      "text/plain": [
       "<IPython.core.display.HTML object>"
      ]
     },
     "metadata": {},
     "output_type": "display_data"
    }
   ],
   "source": [
    "wandb.init(project=\"graph-neural-network\", config={\n",
    "    \"learning_rate\": 1e-4,\n",
    "    \"epochs\": 200,\n",
    "    \"in_channels\": 1,\n",
    "    \"hidden_channels\": 16,\n",
    "    \"out_channels\": 8,\n",
    "    \"heads\": 4,\n",
    "    \"num_layers\": 4, \n",
    "    \"dropout\":0.3\n",
    "})\n",
    "config = wandb.config"
   ]
  },
  {
   "cell_type": "code",
   "execution_count": 4,
   "id": "2054d0cd-63d4-425b-ab20-dd40e45c52dd",
   "metadata": {
    "tags": []
   },
   "outputs": [],
   "source": [
    "class GAT(torch.nn.Module):\n",
    "    def __init__(self, in_channels, hidden_channels, out_channels, heads, num_layers, dropout):\n",
    "        super(GAT, self).__init__()\n",
    "        self.num_layers = num_layers\n",
    "        self.dropout = dropout\n",
    "\n",
    "        self.convs = torch.nn.ModuleList()\n",
    "        self.convs.append(GATConv(in_channels, hidden_channels, heads=heads))\n",
    "        for _ in range(num_layers - 2):\n",
    "            self.convs.append(GATConv(hidden_channels * heads, hidden_channels, heads=heads))\n",
    "        self.convs.append(GATConv(hidden_channels * heads, out_channels, heads=1))\n",
    "\n",
    "    def forward(self, data):\n",
    "        x, edge_index = data.x, data.edge_index\n",
    "        for conv in self.convs[:-1]:\n",
    "            x = conv(x, edge_index)\n",
    "            x = x.relu()\n",
    "            x = F.dropout(x, p=self.dropout, training=self.training)\n",
    "        x = self.convs[-1](x, edge_index)\n",
    "        return x\n",
    "    \n",
    "    def edge_prediction(self, data):\n",
    "        x = self.forward(data)\n",
    "        edge_index = data.edge_index.long()\n",
    "        edge_scores = (x[edge_index[0]] * x[edge_index[1]]).sum(dim=1)\n",
    "        return edge_scores\n",
    "    \n",
    "    def edge_index_prediction(self,data):\n",
    "        pred = self.edge_prediction(data)\n",
    "        pred = torch.round(torch.sigmoid_(pred));\n",
    "        indices = torch.nonzero(pred == 1).flatten().tolist()\n",
    "        return indices"
   ]
  },
  {
   "cell_type": "code",
   "execution_count": 5,
   "id": "9bbaea3a-8603-4823-af93-bc7099114ad3",
   "metadata": {
    "tags": []
   },
   "outputs": [],
   "source": [
    "in_channels = config.in_channels\n",
    "hidden_channels = config.hidden_channels\n",
    "out_channels = config.out_channels\n",
    "heads = config.heads\n",
    "num_layers = config.num_layers\n",
    "dropout = config.dropout\n",
    "learning_rate = config.learning_rate\n",
    "epochs = config.epochs"
   ]
  },
  {
   "cell_type": "code",
   "execution_count": 7,
   "id": "f0dbaff2-9c9a-41bd-a9d2-33ead6bb3b2f",
   "metadata": {
    "tags": []
   },
   "outputs": [],
   "source": [
    "loaded_dataset = torch.load('train_dataset')\n",
    "\n",
    "# 划分训练集, 验证集和测试集\n",
    "train_indices, val_indices = train_test_split(list(range(len(loaded_dataset))), test_size=0.2, random_state=42)\n",
    "\n",
    "# 创建训练集和验证集的数据子集\n",
    "train_dataset = torch.utils.data.Subset(loaded_dataset, train_indices)\n",
    "val_dataset = torch.utils.data.Subset(loaded_dataset, val_indices)\n",
    "\n",
    "# 训练集数据\n",
    "train_loader = DataLoader(train_dataset, batch_size=16, shuffle=True)\n",
    "val_loader = DataLoader(val_dataset, batch_size=16, shuffle=False)"
   ]
  },
  {
   "cell_type": "code",
   "execution_count": 8,
   "id": "acfc2a10-2e2f-40d1-8a08-e6bd5e2bf022",
   "metadata": {
    "tags": []
   },
   "outputs": [],
   "source": [
    "model = GAT(in_channels=in_channels, hidden_channels=hidden_channels, out_channels=out_channels, \n",
    "            heads=heads, num_layers=num_layers, dropout=dropout).to(device)\n",
    "\n",
    "best_model = GAT(in_channels=in_channels, hidden_channels=hidden_channels, out_channels=out_channels, \n",
    "            heads=heads, num_layers=num_layers, dropout=dropout).to(device)\n",
    "optimizer = torch.optim.Adam(model.parameters(), lr=learning_rate)\n",
    "loss_fn = torch.nn.BCEWithLogitsLoss()"
   ]
  },
  {
   "cell_type": "code",
   "execution_count": 9,
   "id": "caa1cfd2-8ae2-44fb-a009-43a016e94f1a",
   "metadata": {
    "tags": []
   },
   "outputs": [],
   "source": [
    "# 训练模型\n",
    "best_val_loss = 999\n",
    "early_stop_count = 0\n",
    "patience = 20  # 当超出20次都没有出现新的best_val_loss时，模型自动提前停止训练。"
   ]
  },
  {
   "cell_type": "code",
   "execution_count": 10,
   "id": "1c3a7b8b-79b2-4bee-bff1-1a76d7be5fde",
   "metadata": {
    "tags": []
   },
   "outputs": [
    {
     "name": "stdout",
     "output_type": "stream",
     "text": [
      "Epoch 1/200, Loss: 0.693147519707681, Val_Loss: 0.6931475095748889\n",
      "best_val_loss = 0.6931475095748889\n",
      "Epoch 2/200, Loss: 0.6931475124359139, Val_Loss: 0.6931475086212147\n",
      "best_val_loss = 0.6931475086212147\n",
      "Epoch 3/200, Loss: 0.693147509217263, Val_Loss: 0.6931475081443774\n",
      "best_val_loss = 0.6931475081443774\n",
      "Epoch 4/200, Loss: 0.6931475117206581, Val_Loss: 0.6931475081443774\n",
      "Epoch 5/200, Loss: 0.6931475111246117, Val_Loss: 0.6931475081443774\n",
      "Epoch 6/200, Loss: 0.693147508859635, Val_Loss: 0.6931475081443774\n",
      "Epoch 7/200, Loss: 0.6931475101709371, Val_Loss: 0.6931475086212147\n",
      "Epoch 8/200, Loss: 0.6931475119590763, Val_Loss: 0.6931475086212147\n",
      "Epoch 9/200, Loss: 0.6931475093364722, Val_Loss: 0.6931475086212147\n",
      "Epoch 10/200, Loss: 0.6931475087404257, Val_Loss: 0.6931475086212147\n",
      "Epoch 11/200, Loss: 0.6931475090980539, Val_Loss: 0.6931475086212147\n",
      "Epoch 12/200, Loss: 0.693147508382798, Val_Loss: 0.6931475086212147\n",
      "Epoch 13/200, Loss: 0.6931475099325184, Val_Loss: 0.6931475086212147\n",
      "Epoch 14/200, Loss: 0.6931475099325186, Val_Loss: 0.6931475086212147\n",
      "Epoch 15/200, Loss: 0.6931475092172625, Val_Loss: 0.6931475086212147\n",
      "Epoch 16/200, Loss: 0.6931475119590764, Val_Loss: 0.6931475086212147\n",
      "Epoch 17/200, Loss: 0.6931475074291233, Val_Loss: 0.6931475086212147\n",
      "Epoch 18/200, Loss: 0.6931475068330768, Val_Loss: 0.6931475086212147\n",
      "Epoch 19/200, Loss: 0.6931475096941001, Val_Loss: 0.6931475086212147\n",
      "Epoch 20/200, Loss: 0.6931475100517279, Val_Loss: 0.6931475086212147\n",
      "Epoch 21/200, Loss: 0.6931475086212161, Val_Loss: 0.6931475086212147\n",
      "Epoch 22/200, Loss: 0.6931475075483322, Val_Loss: 0.6931475086212147\n",
      "Epoch 23/200, Loss: 0.6931475065946581, Val_Loss: 0.6931475086212147\n",
      "Early Stopping! \n",
      "Because 20 epochs the accuracy have no improvement.\n",
      "Best testing Loss = 0.69\n",
      "Best t =   2\n"
     ]
    }
   ],
   "source": [
    "for epoch in range(epochs):\n",
    "    epoch_loss = 0  \n",
    "    epoch_val_loss = 0\n",
    "    \n",
    "    model.train()\n",
    "    for batch in train_loader:\n",
    "        batch = batch.to(device)\n",
    "        optimizer.zero_grad()\n",
    "        pred = model.edge_prediction(batch)\n",
    "        loss = loss_fn(pred, batch.y)\n",
    "        epoch_loss += loss.item()/len(train_loader) \n",
    "        loss.backward()\n",
    "        optimizer.step()\n",
    "    \n",
    "    model.eval()\n",
    "    for batch_v in val_loader:\n",
    "        batch_v = batch_v.to(device)\n",
    "        optimizer.zero_grad()\n",
    "        pred_v = model.edge_prediction(batch_v)\n",
    "        loss_v = loss_fn(pred_v, batch_v.y)\n",
    "        epoch_val_loss += loss_v.item()/len(val_loader) \n",
    "        \n",
    "    \n",
    "    wandb.log({\"train_loss\": epoch_loss, \"val_loss\": epoch_val_loss})\n",
    "\n",
    "    print(f'Epoch {epoch+1}/{epochs}, Loss: {epoch_loss}, Val_Loss: {epoch_val_loss}')\n",
    "    \n",
    "    if not best_val_loss or (epoch_val_loss < best_val_loss):\n",
    "        best_val_loss = epoch_val_loss\n",
    "        print(f'best_val_loss = {epoch_val_loss}')\n",
    "        best_model.load_state_dict(copy.deepcopy(model.state_dict()))\n",
    "        best_epoch = epoch\n",
    "        early_stop_count = 0\n",
    "    else:\n",
    "        early_stop_count += 1\n",
    "    \n",
    "    if early_stop_count >= patience or epoch >= epochs - 1:\n",
    "        print('Early Stopping! \\nBecause %d epochs the accuracy have no improvement.'%(patience))\n",
    "        print('Best testing Loss = %4.2f'%(best_val_loss))\n",
    "        print('Best t = %3g'%(best_epoch))\n",
    "        # test_net.load_net_params(best_model)\n",
    "        break"
   ]
  },
  {
   "cell_type": "code",
   "execution_count": 10,
   "id": "cad07140-7ae8-4188-8702-8ef3abfea830",
   "metadata": {
    "tags": []
   },
   "outputs": [],
   "source": [
    "torch.save(best_model.state_dict(), \"cs_model.pth\")"
   ]
  },
  {
   "cell_type": "code",
   "execution_count": 11,
   "id": "a9136d78-a435-4b5d-a0bd-6030513fd767",
   "metadata": {
    "tags": []
   },
   "outputs": [
    {
     "name": "stdout",
     "output_type": "stream",
     "text": [
      "hhh\n"
     ]
    },
    {
     "data": {
      "text/plain": [
       "GAT(\n",
       "  (convs): ModuleList(\n",
       "    (0): GATConv(1, 16, heads=4)\n",
       "    (1-2): 2 x GATConv(64, 16, heads=4)\n",
       "    (3): GATConv(64, 8, heads=1)\n",
       "  )\n",
       ")"
      ]
     },
     "execution_count": 11,
     "metadata": {},
     "output_type": "execute_result"
    }
   ],
   "source": [
    "model = GAT(in_channels=in_channels, hidden_channels=hidden_channels, out_channels=out_channels, heads=heads,num_layers=num_layers,dropout=dropout)\n",
    "# model.load_state_dict(torch.load('model_400_500.pth'))\n",
    "# model.to(device)\n",
    "if(device=='cuda'):\n",
    "    model.load_state_dict(torch.load('cs_model.pth'))\n",
    "    print(\"hhh1\")\n",
    "else:\n",
    "    model.load_state_dict(torch.load('cs_model.pth',map_location='cpu'))\n",
    "    print(\"hhh\")\n",
    "    \n",
    "model.to(device)"
   ]
  },
  {
   "cell_type": "code",
   "execution_count": 12,
   "id": "0d45992d-1e5e-40c7-af7c-4208e06f4a18",
   "metadata": {
    "tags": []
   },
   "outputs": [
    {
     "name": "stdout",
     "output_type": "stream",
     "text": [
      "tensor([0., 0., 0.,  ..., 0., 0., 0.])\n"
     ]
    }
   ],
   "source": [
    "test_dataset = torch.load('test_dataset')\n",
    "print(test_dataset[2]['y'])\n",
    "test_loader = DataLoader(test_dataset, batch_size=16, shuffle=False)"
   ]
  },
  {
   "cell_type": "code",
   "execution_count": 17,
   "id": "fbe910a0-f419-4b12-9253-10c9805d08a9",
   "metadata": {
    "tags": []
   },
   "outputs": [
    {
     "name": "stdout",
     "output_type": "stream",
     "text": [
      "Test Acc: 0.07970422680610328\n",
      "Test Recall: 0.07970356386684863\n",
      "Test F1: 0.14753443851169837\n"
     ]
    }
   ],
   "source": [
    "# 计算测试集误差\n",
    "model.eval()\n",
    "test_acc = 0\n",
    "test_recall = 0\n",
    "test_f1 = 0\n",
    "with torch.no_grad():\n",
    "    for batch in test_loader:\n",
    "        batch = batch.to(device)\n",
    "        pred = model.edge_prediction(batch)\n",
    "        # print(torch.sigmoid_(pred))\n",
    "        # pred = torch.round(torch.sigmoid_(pred));\n",
    "        pred = (torch.sigmoid(pred) >= 0.5).float()\n",
    "        \n",
    "        pred_np = pred.cpu().detach().numpy().flatten()\n",
    "        true_np = batch.y.cpu().detach().numpy().flatten()\n",
    "        \n",
    "        # 计算准确率\n",
    "        test_acc += accuracy_score(pred_np, true_np)/len(test_loader)\n",
    "        \n",
    "        # 计算召回率\n",
    "        test_recall += recall_score(pred_np, true_np, zero_division=1) / len(test_loader)\n",
    "        \n",
    "        # 计算F1分数\n",
    "        test_f1 += f1_score(pred_np, true_np, zero_division=1) / len(test_loader)\n",
    "\n",
    "print(f'Test Acc: {test_acc}')\n",
    "print(f'Test Recall: {test_recall}')\n",
    "print(f'Test F1: {test_f1}')"
   ]
  }
 ],
 "metadata": {
  "kernelspec": {
   "display_name": "Python 3 (ipykernel)",
   "language": "python",
   "name": "python3"
  },
  "language_info": {
   "codemirror_mode": {
    "name": "ipython",
    "version": 3
   },
   "file_extension": ".py",
   "mimetype": "text/x-python",
   "name": "python",
   "nbconvert_exporter": "python",
   "pygments_lexer": "ipython3",
   "version": "3.8.10"
  }
 },
 "nbformat": 4,
 "nbformat_minor": 5
}
