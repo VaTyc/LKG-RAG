{
 "cells": [
  {
   "cell_type": "code",
   "execution_count": 15,
   "id": "f39050d0-73ed-44fc-9fc6-bd44e10f0808",
   "metadata": {
    "tags": []
   },
   "outputs": [],
   "source": [
    "import torch\n",
    "import pandas as pd\n",
    "from torch_geometric.data import Data, DataLoader"
   ]
  },
  {
   "cell_type": "code",
   "execution_count": 16,
   "id": "21a7ef28-75db-4e5d-9306-8a7f6e3ceb14",
   "metadata": {
    "tags": []
   },
   "outputs": [],
   "source": [
    "df = pd.read_csv(r'./data/trademark_KG.csv',encoding='utf-8')"
   ]
  },
  {
   "cell_type": "code",
   "execution_count": 17,
   "id": "b28b0dba-d500-410b-833d-015c4b0a4782",
   "metadata": {
    "tags": []
   },
   "outputs": [],
   "source": [
    "entities = {}\n",
    "entity_counter = 0\n",
    "\n",
    "for entity in pd.concat([df['head_entity'], df['tail_entity']]).unique():\n",
    "    entities[entity] = entity_counter\n",
    "    entity_counter += 1"
   ]
  },
  {
   "cell_type": "code",
   "execution_count": 18,
   "id": "00029351-2e2f-4ad8-a350-a2656c9fe143",
   "metadata": {
    "tags": []
   },
   "outputs": [],
   "source": [
    "# 创建编号到实体的反向映射\n",
    "id_to_entity = {v: k for k, v in entities.items()}"
   ]
  },
  {
   "cell_type": "code",
   "execution_count": 19,
   "id": "444444cf-dc13-455c-97cb-7ffc9a3e00e0",
   "metadata": {
    "tags": []
   },
   "outputs": [],
   "source": [
    "# 创建关系字典\n",
    "relationships = {}\n",
    "edges = []"
   ]
  },
  {
   "cell_type": "code",
   "execution_count": 20,
   "id": "7076a0e2-fecb-4a5c-8aa6-b01020a45175",
   "metadata": {
    "tags": []
   },
   "outputs": [],
   "source": [
    "for index, row in df.iterrows():\n",
    "    # print(index)\n",
    "    head_id = entities[row['head_entity']]\n",
    "    tail_id = entities[row['tail_entity']]\n",
    "    \n",
    "    rel_law = row['rel_law']\n",
    "    if pd.notna(rel_law) and rel_law.strip():\n",
    "        relationships[(head_id, tail_id)] = f\"{row['relationship']}({rel_law})\"\n",
    "    else:\n",
    "        relationships[(head_id, tail_id)] = f\"{row['relationship']}\"\n",
    "        \n",
    "    edges.append((head_id, tail_id))"
   ]
  },
  {
   "cell_type": "code",
   "execution_count": 21,
   "id": "4b0bca9d-681c-4af9-bc51-f55db0117a22",
   "metadata": {
    "tags": []
   },
   "outputs": [],
   "source": [
    "# 函数：通过键查询实体名称\n",
    "def get_entity_name(entity_id):\n",
    "    return id_to_entity.get(entity_id, \"Entity not found\")\n",
    "\n",
    "# 函数：通过实体名称查询实体编号\n",
    "def get_entity_id(entity_name):\n",
    "    return entities.get(entity_name, \"Entity not found\")\n",
    "\n",
    "# 函数：通过两个实体编号查询两个实体之间的关系\n",
    "def get_relationship(entity_id1, entity_id2):\n",
    "    return relationships.get((entity_id1, entity_id2), \"No relationship found\")"
   ]
  },
  {
   "cell_type": "code",
   "execution_count": 22,
   "id": "dc9b6ccf-57e1-45c7-a23b-f0ab759f042d",
   "metadata": {
    "tags": []
   },
   "outputs": [
    {
     "name": "stdout",
     "output_type": "stream",
     "text": [
      "商标\n",
      "0\n",
      "制定目的(《中华人民共和国商标法》第一条)\n"
     ]
    }
   ],
   "source": [
    "# 测试函数\n",
    "print(get_entity_name(1))  # 输出实体名称\n",
    "print(get_entity_id('商标法'))  # 输出实体编号\n",
    "print(get_relationship(0,133))  # 输出两个实体之间的关系"
   ]
  },
  {
   "cell_type": "code",
   "execution_count": 23,
   "id": "0258e120-ece4-4bfc-8fff-a7e58fbb0c24",
   "metadata": {
    "tags": []
   },
   "outputs": [
    {
     "name": "stdout",
     "output_type": "stream",
     "text": [
      "426\n",
      "449\n",
      "449\n"
     ]
    }
   ],
   "source": [
    "print(len(entities))\n",
    "print(len(relationships))\n",
    "print(len(edges))"
   ]
  },
  {
   "cell_type": "code",
   "execution_count": null,
   "id": "e9b8a1fb-0a8b-40ab-9a64-8231623041e1",
   "metadata": {
    "tags": []
   },
   "outputs": [],
   "source": [
    "x = torch.zeros(len(entities), 1)\n",
    "edge_index = torch.tensor(edges, dtype=torch.long).t()"
   ]
  },
  {
   "cell_type": "code",
   "execution_count": null,
   "id": "c23d0557-c637-4f6b-873c-0dee9d8841df",
   "metadata": {
    "tags": []
   },
   "outputs": [],
   "source": [
    "G_data = Data(x=x,edge_index=edge_index)"
   ]
  },
  {
   "cell_type": "code",
   "execution_count": null,
   "id": "12fe847c-676a-4493-a9fa-0341956b145b",
   "metadata": {
    "tags": []
   },
   "outputs": [],
   "source": [
    "points = [0,3,4,6]\n",
    "G_data.x[points]=1"
   ]
  },
  {
   "cell_type": "code",
   "execution_count": null,
   "id": "c17cb7d5-8a6a-4f24-8958-5b0520246b1a",
   "metadata": {
    "tags": []
   },
   "outputs": [],
   "source": [
    "print(G_data)"
   ]
  }
 ],
 "metadata": {
  "kernelspec": {
   "display_name": "Python 3 (ipykernel)",
   "language": "python",
   "name": "python3"
  },
  "language_info": {
   "codemirror_mode": {
    "name": "ipython",
    "version": 3
   },
   "file_extension": ".py",
   "mimetype": "text/x-python",
   "name": "python",
   "nbconvert_exporter": "python",
   "pygments_lexer": "ipython3",
   "version": "3.8.10"
  }
 },
 "nbformat": 4,
 "nbformat_minor": 5
}
