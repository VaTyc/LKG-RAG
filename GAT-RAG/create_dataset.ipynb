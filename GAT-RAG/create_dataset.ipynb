{
 "cells": [
  {
   "cell_type": "code",
   "execution_count": 37,
   "id": "a49c1a47-615a-4e7c-8cb0-7b8d6f0f8ede",
   "metadata": {
    "tags": []
   },
   "outputs": [],
   "source": [
    "import torch\n",
    "from torch_geometric.data import Data, DataLoader\n",
    "import networkx as nx\n",
    "import numpy as np\n",
    "import random"
   ]
  },
  {
   "cell_type": "code",
   "execution_count": 38,
   "id": "6bcb8fed-9921-4aee-801d-6e73904d5ece",
   "metadata": {
    "tags": []
   },
   "outputs": [],
   "source": [
    "def generate_random_dag(n_nodes, edge_prob):\n",
    "    G = nx.DiGraph()\n",
    "    nodes = list(range(n_nodes))\n",
    "    random.shuffle(nodes)\n",
    "    \n",
    "    for i in range(1, n_nodes):\n",
    "        parent = random.randint(0, i-1)\n",
    "        G.add_edge(nodes[parent], nodes[i])\n",
    "    \n",
    "    additional_edges = int(edge_prob * n_nodes * (n_nodes - 1) / 2)\n",
    "    \n",
    "    while additional_edges > 0:\n",
    "        u, v = random.sample(nodes, 2)\n",
    "        if u != v and not G.has_edge(u, v):\n",
    "            G.add_edge(u, v)\n",
    "            if nx.is_directed_acyclic_graph(G):\n",
    "                additional_edges -= 1\n",
    "            else:\n",
    "                G.remove_edge(u, v)\n",
    "    \n",
    "    edge_index = torch.tensor(list(G.edges), dtype=torch.int).t().contiguous()\n",
    "    x = torch.zeros(n_nodes, 1)\n",
    "    return Data(x=x, edge_index=edge_index)"
   ]
  },
  {
   "cell_type": "code",
   "execution_count": 39,
   "id": "fcddab5f-4331-4234-addc-e85ec3891ef2",
   "metadata": {
    "tags": []
   },
   "outputs": [],
   "source": [
    "# 图算法\n",
    "def generate_paths_and_expansion(G, nodes):\n",
    "    paths = set(nodes)\n",
    "    for i in range(len(nodes)):\n",
    "        for j in range(i + 1, len(nodes)):\n",
    "            try:\n",
    "                if nodes[i] in G and nodes[j] in G:\n",
    "                    try:\n",
    "                        path = nx.shortest_path(G, source=nodes[i], target=nodes[j])\n",
    "                    except nx.NetworkXNoPath:\n",
    "                        path = nx.shortest_path(G, source=nodes[j], target=nodes[i])\n",
    "                    paths.update(path)\n",
    "            except nx.NetworkXNoPath:\n",
    "                paths.update([nodes[i], nodes[j]])\n",
    "\n",
    "    # 去重并扩展\n",
    "    expanded_nodes = set(paths)\n",
    "    \n",
    "    for node in paths:\n",
    "        neighbors = nx.single_source_shortest_path_length(G, node, cutoff=2).keys()\n",
    "        expanded_nodes.update(neighbors)\n",
    "\n",
    "    subgraph = G.subgraph(expanded_nodes).copy()\n",
    "    edge_index = torch.tensor(list(subgraph.edges), dtype=torch.long).t().contiguous()\n",
    "    if edge_index.numel() == 0:  # 如果没有边，返回一个空的边列表\n",
    "        edge_index = torch.empty((2, 0), dtype=torch.long)\n",
    "    return edge_index"
   ]
  },
  {
   "cell_type": "code",
   "execution_count": 40,
   "id": "2690705f-7d4e-425d-8d9e-ea3c048d7b5e",
   "metadata": {
    "tags": []
   },
   "outputs": [],
   "source": [
    "# 数据集生成\n",
    "def generate_dataset(n_samples, min_nodes, max_nodes, edge_prob):\n",
    "    dataset = []\n",
    "    index = 0\n",
    "    for _ in range(n_samples):\n",
    "        print(index)\n",
    "        n_nodes = random.randint(min_nodes, max_nodes)\n",
    "        G_data = generate_random_dag(n_nodes, edge_prob)\n",
    "        edgelist = [(row[0], row[1]) for row in G_data.edge_index.numpy().T]\n",
    "        G = nx.DiGraph(edgelist)\n",
    "        n_points = random.randint(1, 20)\n",
    "        points = random.sample(range(n_nodes), n_points)\n",
    "        G_data.x[points]=1\n",
    "        subgraph_edge_index = generate_paths_and_expansion(G, points)\n",
    "        \n",
    "        y = torch.zeros(G_data.edge_index.size(1), dtype=torch.float)\n",
    "        for edge in subgraph_edge_index.t().tolist():\n",
    "            for i, orig_edge in enumerate(G_data.edge_index.t().tolist()):\n",
    "                if edge == orig_edge:\n",
    "                    y[i] = 1.0\n",
    "        G_data.y = y\n",
    "        print(G_data)\n",
    "        dataset.append(G_data)\n",
    "        index = index+1\n",
    "    return dataset"
   ]
  },
  {
   "cell_type": "code",
   "execution_count": 43,
   "id": "558dee6b-1cd5-4532-b2ba-21c021e3da47",
   "metadata": {
    "tags": []
   },
   "outputs": [],
   "source": [
    "n_samples=1000\n",
    "min_nodes=400\n",
    "max_nodes=500\n",
    "edge_prob=0.05"
   ]
  },
  {
   "cell_type": "code",
   "execution_count": 44,
   "id": "08264685-f153-4b84-a3b9-fa8401eeef21",
   "metadata": {
    "tags": []
   },
   "outputs": [],
   "source": [
    "G_data = generate_random_dag(5,0.3)"
   ]
  },
  {
   "cell_type": "code",
   "execution_count": 45,
   "id": "4268f72f-4bff-4615-a5ab-e0668b678cc1",
   "metadata": {
    "tags": []
   },
   "outputs": [
    {
     "name": "stdout",
     "output_type": "stream",
     "text": [
      "tensor([[4, 4, 2, 2, 2, 1, 0],\n",
      "        [2, 1, 3, 1, 0, 0, 3]], dtype=torch.int32)\n",
      "[(4, 2), (4, 1), (2, 3), (2, 1), (2, 0), (1, 0), (0, 3)]\n"
     ]
    }
   ],
   "source": [
    "print(G_data['edge_index'])\n",
    "edgelist = [(row[0], row[1]) for row in G_data.edge_index.numpy().T]\n",
    "print(edgelist)"
   ]
  },
  {
   "cell_type": "code",
   "execution_count": null,
   "id": "f87f199b-8839-4afb-9a00-905145845078",
   "metadata": {
    "tags": []
   },
   "outputs": [],
   "source": [
    "# 生成数据集\n",
    "dataset = generate_dataset(n_samples,min_nodes,max_nodes, edge_prob)\n",
    "print(\"dataset:\",dataset)"
   ]
  },
  {
   "cell_type": "code",
   "execution_count": 51,
   "id": "6cbdf714-5ac6-408b-98ba-ea13c9118575",
   "metadata": {},
   "outputs": [],
   "source": [
    "torch.save(dataset, './dataset1/train_dataset')"
   ]
  }
 ],
 "metadata": {
  "kernelspec": {
   "display_name": "Python 3 (ipykernel)",
   "language": "python",
   "name": "python3"
  },
  "language_info": {
   "codemirror_mode": {
    "name": "ipython",
    "version": 3
   },
   "file_extension": ".py",
   "mimetype": "text/x-python",
   "name": "python",
   "nbconvert_exporter": "python",
   "pygments_lexer": "ipython3",
   "version": "3.8.10"
  }
 },
 "nbformat": 4,
 "nbformat_minor": 5
}
